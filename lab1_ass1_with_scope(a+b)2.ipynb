{
 "cells": [
  {
   "cell_type": "code",
   "execution_count": 1,
   "metadata": {},
   "outputs": [
    {
     "name": "stdout",
     "output_type": "stream",
     "text": [
      "225\n",
      "225\n"
     ]
    }
   ],
   "source": [
    "import tensorflow as tf\n",
    "a=tf.constant(5)\n",
    "b=tf.constant(10)\n",
    "\n",
    "with tf.name_scope(\"calcu_a_sqr\"):\n",
    "    a_sqr=tf.square(a)\n",
    "    #print(a_sqr)\n",
    "with tf.name_scope(\"calcu_b_sqr\"):\n",
    "    b_sqr=tf.square(b)\n",
    "    #print(b_sqr)\n",
    "with tf.name_scope(\"calcu_2ab\"):\n",
    "    ab_val=tf.multiply(a,b)\n",
    "    twoab_val=tf.multiply(2,ab_val)\n",
    "    #print(twoab_val)\n",
    "\n",
    "with tf.name_scope(\"result\"):\n",
    "    res=tf.add(a_sqr,b_sqr)\n",
    "    result=tf.add(res,twoab_val)\n",
    "    #print(result)\n",
    "\n",
    "ses=tf.Session()\n",
    "print(ses.run(result))\n",
    "\n",
    "with tf.Session() as ses:\n",
    "    writer=tf.summary.FileWriter(\"/tmp/tboard/output6\",ses.graph)\n",
    "    print(ses.run(result))\n",
    "    writer.close()"
   ]
  },
  {
   "cell_type": "code",
   "execution_count": null,
   "metadata": {
    "collapsed": true
   },
   "outputs": [],
   "source": []
  }
 ],
 "metadata": {
  "kernelspec": {
   "display_name": "Python 3",
   "language": "python",
   "name": "python3"
  },
  "language_info": {
   "codemirror_mode": {
    "name": "ipython",
    "version": 3
   },
   "file_extension": ".py",
   "mimetype": "text/x-python",
   "name": "python",
   "nbconvert_exporter": "python",
   "pygments_lexer": "ipython3",
   "version": "3.6.1"
  }
 },
 "nbformat": 4,
 "nbformat_minor": 2
}
