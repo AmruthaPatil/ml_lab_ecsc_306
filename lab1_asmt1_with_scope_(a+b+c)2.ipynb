{
 "cells": [
  {
   "cell_type": "code",
   "execution_count": 2,
   "metadata": {},
   "outputs": [
    {
     "name": "stdout",
     "output_type": "stream",
     "text": [
      "100\n",
      "100\n"
     ]
    }
   ],
   "source": [
    "import tensorflow as tf\n",
    "a=tf.constant(2)\n",
    "b=tf.constant(3)\n",
    "c=tf.constant(5)\n",
    "\n",
    "with tf.name_scope(\"calcu_a_sqr\"):\n",
    "    a_sqr=tf.square(a)\n",
    "    #print(a_sqr)\n",
    "with tf.name_scope(\"calcu_b_sqr\"):\n",
    "    b_sqr=tf.square(b)\n",
    "    #print(b_sqr)\n",
    "with tf.name_scope(\"calcu_c_sqr\"):\n",
    "    c_sqr=tf.square(c)\n",
    "    #print(a_sqr)\n",
    "\n",
    "with tf.name_scope(\"calcu_2ab\"):\n",
    "    ab_val=tf.multiply(a,b)\n",
    "    tab_val=tf.multiply(2,ab_val)\n",
    "with tf.name_scope(\"calcu_2bc\"):\n",
    "    bc_val=tf.multiply(c,b)\n",
    "    tbc_val=tf.multiply(2,bc_val)\n",
    "with tf.name_scope(\"calcu_2ca\"):\n",
    "    ca_val=tf.multiply(a,c)\n",
    "    tca_val=tf.multiply(2,ca_val)\n",
    "       \n",
    "with tf.name_scope(\"result\"):\n",
    "    res1=tf.add(a_sqr,b_sqr)\n",
    "    res2=tf.add(res1,c_sqr)\n",
    "    res3=tf.add(tab_val,tbc_val)\n",
    "    res4=tf.add(res3,tca_val)\n",
    "    result=tf.add(res2,res4)\n",
    "\n",
    "ses=tf.Session()\n",
    "print(ses.run(result))\n",
    "\n",
    "with tf.Session() as ses:\n",
    "    writer=tf.summary.FileWriter(\"/tmp/tboard/output18\",ses.graph)\n",
    "    print(ses.run(result))\n",
    "    writer.close()"
   ]
  },
  {
   "cell_type": "code",
   "execution_count": null,
   "metadata": {
    "collapsed": true
   },
   "outputs": [],
   "source": []
  }
 ],
 "metadata": {
  "kernelspec": {
   "display_name": "Python 3",
   "language": "python",
   "name": "python3"
  },
  "language_info": {
   "codemirror_mode": {
    "name": "ipython",
    "version": 3
   },
   "file_extension": ".py",
   "mimetype": "text/x-python",
   "name": "python",
   "nbconvert_exporter": "python",
   "pygments_lexer": "ipython3",
   "version": "3.6.1"
  }
 },
 "nbformat": 4,
 "nbformat_minor": 2
}
