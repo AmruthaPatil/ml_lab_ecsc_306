{
 "cells": [
  {
   "cell_type": "code",
   "execution_count": 3,
   "metadata": {},
   "outputs": [
    {
     "name": "stdout",
     "output_type": "stream",
     "text": [
      "13.4110204082\n",
      "3.74\n",
      "0.278875125544\n",
      "Tensor(\"Mul_2:0\", shape=(), dtype=float64)\n",
      "Tensor(\"Sub_2:0\", shape=(), dtype=float64)\n",
      "2.52798794777\n"
     ]
    }
   ],
   "source": [
    "import tensorflow as tf\n",
    "import pandas as pd\n",
    "import numpy as np\n",
    "array_x = np.array([8.2,10.4,12.6,14.8,16.0,6.7,5.9])\n",
    "array_y = np.array([2.2,4.4,6.6,8.8,5.5,3.3,7.7])\n",
    "\n",
    "mean_x = np.mean(array_x)\n",
    "mean_y = np.mean(array_y)\n",
    "\n",
    "variance_x = np.var(array_x)\n",
    "print(variance_x)\n",
    "\n",
    "cov_xy = np.cov(array_x,array_y)[1][0]\n",
    "print(cov_xy)\n",
    "\n",
    "c=tf.divide(cov_xy,variance_x)\n",
    "print(c)\n",
    "\n",
    "temp1=tf.multiply(c,mean_x)\n",
    "print(temp1)\n",
    "m=tf.subtract(mean_y,temp1)\n",
    "print(m)\n",
    "\n",
    "with tf.Session() as sess:\n",
    "        fwriter = tf.summary.FileWriter(\"/tmp/tboard/output100\", sess.graph)\n",
    "        print(sess.run(m))\n",
    "        fwriter.close()"
   ]
  },
  {
   "cell_type": "code",
   "execution_count": null,
   "metadata": {
    "collapsed": true
   },
   "outputs": [],
   "source": []
  }
 ],
 "metadata": {
  "kernelspec": {
   "display_name": "Python 3",
   "language": "python",
   "name": "python3"
  },
  "language_info": {
   "codemirror_mode": {
    "name": "ipython",
    "version": 3
   },
   "file_extension": ".py",
   "mimetype": "text/x-python",
   "name": "python",
   "nbconvert_exporter": "python",
   "pygments_lexer": "ipython3",
   "version": "3.6.1"
  }
 },
 "nbformat": 4,
 "nbformat_minor": 2
}
