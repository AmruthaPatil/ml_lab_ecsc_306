{
 "cells": [
  {
   "cell_type": "code",
   "execution_count": 1,
   "metadata": {
    "scrolled": false
   },
   "outputs": [
    {
     "name": "stdout",
     "output_type": "stream",
     "text": [
      "13.5333\n",
      "15.6167\n",
      "[[-3.03333282  6.86666679 -0.23333263  0.66666698  2.36666679 -6.63333273]]\n",
      "[[  9.20110798  47.1511116    0.05444412   0.44444486   5.60111189\n",
      "   44.00110245]]\n",
      "17.7422\n",
      "[[-4.41666603 -3.31666565  7.48333454 -1.01666546  9.38333416 -8.11666584]]\n",
      "[[ 13.39721775 -22.77443695  -1.74610615  -0.67777729  22.2072258\n",
      "   53.84054565]]\n",
      "64.2467\n",
      "12.8493\n",
      "0.724224\n",
      "5.81551\n",
      "5.81551\n"
     ]
    }
   ],
   "source": [
    "import numpy as np\n",
    "import tensorflow as tf\n",
    "\n",
    "arr_x=tf.constant([10.5, 20.4, 13.3, 14.2, 15.9, 6.9], shape=[1,6], name='arr_x')\n",
    "arr_y=tf.constant([11.2, 12.3, 23.1, 14.6, 25.0, 7.5], shape=[1,6], name='arr_y')\n",
    "\n",
    "with tf.name_scope(\"mean_x\"):\n",
    "    mean_x=tf.reduce_mean(arr_x)\n",
    "    ses1=tf.Session()\n",
    "    print(ses1.run(mean_x))\n",
    "    #print(mean_x)\n",
    "\n",
    "with tf.name_scope(\"mean_y\"):\n",
    "    mean_y=tf.reduce_mean(arr_y)\n",
    "    ses2=tf.Session()\n",
    "    print(ses2.run(mean_y))\n",
    "    #print(mean_y)\n",
    "\n",
    "with tf.name_scope(\"variance_x\"):\n",
    "    tmp1=tf.subtract(arr_x,mean_x)\n",
    "    ses3=tf.Session()\n",
    "    print(ses3.run(tmp1))\n",
    "\n",
    "    tmp2=tf.square(tmp1)\n",
    "    ses4=tf.Session()\n",
    "    print(ses4.run(tmp2))\n",
    "\n",
    "    var_x=tf.reduce_mean(tmp2)\n",
    "    ses5=tf.Session()\n",
    "    print(ses5.run(var_x))\n",
    "\n",
    "with tf.name_scope(\"covariance_xy\"):\n",
    "    tmp3=tf.subtract(arr_y,mean_y)\n",
    "    ses6=tf.Session()\n",
    "    print(ses6.run(tmp3))\n",
    "\n",
    "    tmp4=tf.multiply(tmp1,tmp3)\n",
    "    ses7=tf.Session()\n",
    "    print(ses7.run(tmp4))\n",
    "\n",
    "    tmp5=tf.reduce_sum(tmp4)\n",
    "    ses8=tf.Session()\n",
    "    print(ses8.run(tmp5))\n",
    "    \n",
    "    covar_xy=tf.divide(tmp5,5)\n",
    "    ses8=tf.Session()\n",
    "    print(ses8.run(covar_xy))\n",
    "\n",
    "with tf.name_scope(\"m_value\"):\n",
    "    m=tf.divide(covar_xy,var_x)\n",
    "    ses9=tf.Session()\n",
    "    print(ses9.run(m))\n",
    "\n",
    "with tf.name_scope(\"c_value\"):\n",
    "    c=tf.subtract(mean_y,m*mean_x)\n",
    "    ses10=tf.Session()\n",
    "    print(ses10.run(c))\n",
    "\n",
    "with tf.Session() as ses11:\n",
    "    filewrt=tf.summary.FileWriter(\"/tmp/tboard/output22\",ses11.graph)\n",
    "    print(ses11.run(c))\n",
    "    filewrt.close()"
   ]
  },
  {
   "cell_type": "code",
   "execution_count": null,
   "metadata": {
    "collapsed": true
   },
   "outputs": [],
   "source": []
  }
 ],
 "metadata": {
  "kernelspec": {
   "display_name": "Python 3",
   "language": "python",
   "name": "python3"
  },
  "language_info": {
   "codemirror_mode": {
    "name": "ipython",
    "version": 3
   },
   "file_extension": ".py",
   "mimetype": "text/x-python",
   "name": "python",
   "nbconvert_exporter": "python",
   "pygments_lexer": "ipython3",
   "version": "3.6.1"
  }
 },
 "nbformat": 4,
 "nbformat_minor": 2
}
